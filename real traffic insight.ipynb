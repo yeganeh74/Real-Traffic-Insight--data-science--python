{
 "cells": [
  {
   "cell_type": "markdown",
   "id": "337d1fbf-9213-4db3-8774-357c2159f63a",
   "metadata": {},
   "source": [
    "# RoadSense Project: Traffic Analysis and Prediction Using GPS Data\n",
    "\n",
    "## Project Overview\n",
    "This project aims to analyze and predict road traffic conditions using real GPS and vehicle sensor data. Simulated data structured similarly to the Comma2k19 dataset is utilized to train machine learning models for forecasting speed, acceleration, and steering angle throughout the route.\n",
    "\n",
    "## Project Objectives\n",
    "- Data cleaning and preparation  \n",
    "- Exploratory data analysis to understand traffic patterns  \n",
    "- Building predictive models for traffic conditions  \n",
    "- Visualizing results and predictions  \n",
    "- Providing solutions to improve road traffic management  \n",
    "\n",
    "## Project Structure\n",
    "- Data file: `comma2k19_simulated.csv`  \n",
    "- Data cleaning and analysis scripts  \n",
    "- Predictive modeling code  \n",
    "- Results visualization  \n"
   ]
  },
  {
   "cell_type": "markdown",
   "id": "0415a242-d8d7-4e63-9d08-d4e8603eec19",
   "metadata": {},
   "source": [
    "#  Import Data\n",
    "\n",
    "Load the simulated traffic data CSV using pandas and preview the first few rows."
   ]
  },
  {
   "cell_type": "code",
   "execution_count": 2,
   "id": "83958b38-6752-4d65-a3fa-1655004c6ce7",
   "metadata": {},
   "outputs": [
    {
     "data": {
      "text/html": [
       "<div>\n",
       "<style scoped>\n",
       "    .dataframe tbody tr th:only-of-type {\n",
       "        vertical-align: middle;\n",
       "    }\n",
       "\n",
       "    .dataframe tbody tr th {\n",
       "        vertical-align: top;\n",
       "    }\n",
       "\n",
       "    .dataframe thead th {\n",
       "        text-align: right;\n",
       "    }\n",
       "</style>\n",
       "<table border=\"1\" class=\"dataframe\">\n",
       "  <thead>\n",
       "    <tr style=\"text-align: right;\">\n",
       "      <th></th>\n",
       "      <th>timestamp</th>\n",
       "      <th>latitude</th>\n",
       "      <th>longitude</th>\n",
       "      <th>speed</th>\n",
       "      <th>acceleration</th>\n",
       "      <th>steering_angle</th>\n",
       "    </tr>\n",
       "  </thead>\n",
       "  <tbody>\n",
       "    <tr>\n",
       "      <th>0</th>\n",
       "      <td>2025-08-01 08:00:00</td>\n",
       "      <td>35.689550</td>\n",
       "      <td>51.389140</td>\n",
       "      <td>53.248217</td>\n",
       "      <td>5.306596</td>\n",
       "      <td>-9.539038</td>\n",
       "    </tr>\n",
       "    <tr>\n",
       "      <th>1</th>\n",
       "      <td>2025-08-01 08:00:01</td>\n",
       "      <td>35.689536</td>\n",
       "      <td>51.389232</td>\n",
       "      <td>58.554813</td>\n",
       "      <td>-0.586208</td>\n",
       "      <td>-4.301925</td>\n",
       "    </tr>\n",
       "    <tr>\n",
       "      <th>2</th>\n",
       "      <td>2025-08-01 08:00:02</td>\n",
       "      <td>35.689601</td>\n",
       "      <td>51.389238</td>\n",
       "      <td>52.075801</td>\n",
       "      <td>-0.817214</td>\n",
       "      <td>-2.068028</td>\n",
       "    </tr>\n",
       "    <tr>\n",
       "      <th>3</th>\n",
       "      <td>2025-08-01 08:00:03</td>\n",
       "      <td>35.689753</td>\n",
       "      <td>51.389174</td>\n",
       "      <td>56.920385</td>\n",
       "      <td>-5.505974</td>\n",
       "      <td>9.438438</td>\n",
       "    </tr>\n",
       "    <tr>\n",
       "      <th>4</th>\n",
       "      <td>2025-08-01 08:00:04</td>\n",
       "      <td>35.689730</td>\n",
       "      <td>51.389243</td>\n",
       "      <td>41.063853</td>\n",
       "      <td>2.606276</td>\n",
       "      <td>2.782766</td>\n",
       "    </tr>\n",
       "  </tbody>\n",
       "</table>\n",
       "</div>"
      ],
      "text/plain": [
       "             timestamp   latitude  longitude      speed  acceleration  \\\n",
       "0  2025-08-01 08:00:00  35.689550  51.389140  53.248217      5.306596   \n",
       "1  2025-08-01 08:00:01  35.689536  51.389232  58.554813     -0.586208   \n",
       "2  2025-08-01 08:00:02  35.689601  51.389238  52.075801     -0.817214   \n",
       "3  2025-08-01 08:00:03  35.689753  51.389174  56.920385     -5.505974   \n",
       "4  2025-08-01 08:00:04  35.689730  51.389243  41.063853      2.606276   \n",
       "\n",
       "   steering_angle  \n",
       "0       -9.539038  \n",
       "1       -4.301925  \n",
       "2       -2.068028  \n",
       "3        9.438438  \n",
       "4        2.782766  "
      ]
     },
     "execution_count": 2,
     "metadata": {},
     "output_type": "execute_result"
    }
   ],
   "source": [
    "import pandas as pd\n",
    "df = pd.read_csv('comma2k19_simulated.csv')\n",
    "df.head()"
   ]
  },
  {
   "cell_type": "markdown",
   "id": "d8d3e8d3-c176-4158-919f-78e5678a86c7",
   "metadata": {},
   "source": [
    "# 📊 Data Overview\n",
    "We begin by exploring the basic structure of the dataset:\n",
    "\n",
    "Dimensions and column names Data types Summary statistics Missing values"
   ]
  },
  {
   "cell_type": "code",
   "execution_count": 19,
   "id": "8e5f9746-bd36-423e-a13e-d09ae736aecd",
   "metadata": {},
   "outputs": [
    {
     "name": "stdout",
     "output_type": "stream",
     "text": [
      "Shape of dataset: (1000, 6)\n",
      "Column names: ['timestamp', 'latitude', 'longitude', 'speed', 'acceleration', 'steering_angle']\n",
      "\n",
      "Data types:\n",
      "timestamp          object\n",
      "latitude          float64\n",
      "longitude         float64\n",
      "speed             float64\n",
      "acceleration      float64\n",
      "steering_angle    float64\n",
      "dtype: object\n",
      "\n",
      "Summary statistics:\n",
      "          latitude    longitude        speed  acceleration  steering_angle\n",
      "count  1000.000000  1000.000000  1000.000000   1000.000000     1000.000000\n",
      "mean     35.689465    51.393346    60.058342      0.005405       -0.093596\n",
      "std       0.000956     0.001874     9.834543      7.022731        5.135663\n",
      "min      35.687833    51.389140    29.804878    -21.900854      -14.647243\n",
      "25%      35.688733    51.391802    53.520004     -4.724492       -3.687102\n",
      "50%      35.689256    51.393562    59.997492     -0.142227        0.000923\n",
      "75%      35.689936    51.395099    66.609153      4.714029        3.334727\n",
      "max      35.692259    51.396617    99.262377     24.874745       16.215465\n",
      "\n",
      "Missing data:\n",
      "timestamp         0\n",
      "latitude          0\n",
      "longitude         0\n",
      "speed             0\n",
      "acceleration      0\n",
      "steering_angle    0\n",
      "dtype: int64\n"
     ]
    }
   ],
   "source": [
    "print(f\"Shape of dataset: {df.shape}\")\n",
    "print(f\"Column names: {df.columns.tolist()}\")\n",
    "print(f\"\\nData types:\\n{df.dtypes}\")\n",
    "print(f\"\\nSummary statistics:\\n{df.describe()}\")\n",
    "print(f\"\\nMissing data:\\n{df.isnull().sum()}\")\n"
   ]
  },
  {
   "cell_type": "code",
   "execution_count": null,
   "id": "33990bd1-b897-4d32-bc57-a0ac14db2914",
   "metadata": {},
   "outputs": [],
   "source": []
  }
 ],
 "metadata": {
  "kernelspec": {
   "display_name": "Python 3 (ipykernel)",
   "language": "python",
   "name": "python3"
  },
  "language_info": {
   "codemirror_mode": {
    "name": "ipython",
    "version": 3
   },
   "file_extension": ".py",
   "mimetype": "text/x-python",
   "name": "python",
   "nbconvert_exporter": "python",
   "pygments_lexer": "ipython3",
   "version": "3.13.2"
  }
 },
 "nbformat": 4,
 "nbformat_minor": 5
}
